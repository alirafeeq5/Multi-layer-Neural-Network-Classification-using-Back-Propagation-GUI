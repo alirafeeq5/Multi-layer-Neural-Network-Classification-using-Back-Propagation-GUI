{
 "cells": [
  {
   "cell_type": "code",
   "execution_count": 1,
   "id": "9d0a633f",
   "metadata": {},
   "outputs": [],
   "source": [
    "import numpy as np\n",
    "from collections import namedtuple"
   ]
  },
  {
   "cell_type": "code",
   "execution_count": 2,
   "id": "9543090b",
   "metadata": {},
   "outputs": [],
   "source": [
    "# Tested against the example in\n",
    "# https://mattmazur.com/2015/03/17/a-step-by-step-backpropagation-example/\n",
    "# (Some equations were changed to match the expected outputs)"
   ]
  },
  {
   "cell_type": "code",
   "execution_count": 3,
   "id": "81348927",
   "metadata": {},
   "outputs": [],
   "source": [
    "Act = namedtuple(\"Act\", [\"name\", \"func\", \"deriv\"])\n",
    "\n",
    "sig_func = lambda x: 1 / (1 + np.exp(-x))\n",
    "sig_deriv = lambda x: sig_func(x) * (1 - sig_func(x))\n",
    "\n",
    "sigmoid = Act(\n",
    "    name=\"Sigmoid\",\n",
    "    func=sig_func,\n",
    "    deriv=sig_deriv\n",
    ")\n",
    "\n",
    "class Layer:\n",
    "\n",
    "    def __init__(self, num, prev, bias=1, act=sigmoid, eta=0.4):\n",
    "        self.weights = np.random.standard_normal((num, prev + bias))\n",
    "        self.act = act\n",
    "        self.eta = eta\n",
    "        self.bias = bias\n",
    "\n",
    "        self.deltas = None\n",
    "        self.forward_inputs = None\n",
    "        self.nets = None\n",
    "\n",
    "    def first_forward(self, forward_inputs):\n",
    "        self.forward_inputs = forward_inputs\n",
    "        self.nets = forward_inputs @ self.weights.T\n",
    "        return self.act.func(self.nets)\n",
    "\n",
    "    def backward(self, back_deltas, back_weights):\n",
    "        sums = back_deltas @ back_weights\n",
    "        if self.bias == 1:\n",
    "            self.nets = np.append(self.nets, 1)\n",
    "        self.deltas = self.act.deriv(self.nets) * sums\n",
    "        return self.deltas, self.weights\n",
    "\n",
    "    def second_forward(self):\n",
    "        self.deltas = self.deltas.flatten()\n",
    "        self.forward_inputs = self.forward_inputs.flatten()\n",
    "        for i, row in enumerate(self.weights):\n",
    "            row -= self.eta * self.deltas[i] * self.forward_inputs\n",
    "\n",
    "\n",
    "class OutputLayer(Layer):\n",
    "\n",
    "    def backward(self, total_error):\n",
    "        self.deltas = total_error * self.act.deriv(self.nets)\n",
    "        return self.deltas, self.weights\n"
   ]
  },
  {
   "cell_type": "code",
   "execution_count": 4,
   "id": "ebe78cba",
   "metadata": {
    "scrolled": true
   },
   "outputs": [],
   "source": [
    "h_layer = Layer(2, 2, 1, eta=0.5)"
   ]
  },
  {
   "cell_type": "code",
   "execution_count": 5,
   "id": "1a84a3bf",
   "metadata": {},
   "outputs": [],
   "source": [
    "h_layer.weights = np.array([\n",
    "    [0.15, 0.20, 0.35],\n",
    "    [0.25, 0.30, 0.35]\n",
    "]) # 2 x 3"
   ]
  },
  {
   "cell_type": "code",
   "execution_count": 6,
   "id": "540a3789",
   "metadata": {},
   "outputs": [
    {
     "data": {
      "text/plain": [
       "array([[0.3775, 0.3925]])"
      ]
     },
     "execution_count": 6,
     "metadata": {},
     "output_type": "execute_result"
    }
   ],
   "source": [
    "np.array([[0.05, 0.1, 1]]) @ h_layer.weights.T"
   ]
  },
  {
   "cell_type": "code",
   "execution_count": 7,
   "id": "a77af1b5",
   "metadata": {},
   "outputs": [],
   "source": [
    "inputs = np.array([[0.05, 0.1, 1]]) # 1 x 3"
   ]
  },
  {
   "cell_type": "code",
   "execution_count": 8,
   "id": "920de94e",
   "metadata": {},
   "outputs": [],
   "source": [
    "h_ys = h_layer.first_forward(inputs)"
   ]
  },
  {
   "cell_type": "code",
   "execution_count": 9,
   "id": "377c1539",
   "metadata": {},
   "outputs": [
    {
     "data": {
      "text/plain": [
       "array([[0.59326999, 0.59688438]])"
      ]
     },
     "execution_count": 9,
     "metadata": {},
     "output_type": "execute_result"
    }
   ],
   "source": [
    "h_ys"
   ]
  },
  {
   "cell_type": "code",
   "execution_count": 10,
   "id": "0fae9827",
   "metadata": {},
   "outputs": [],
   "source": [
    "o_layer = OutputLayer(2, 2, 1, eta=0.5)"
   ]
  },
  {
   "cell_type": "code",
   "execution_count": 11,
   "id": "6b5932cc",
   "metadata": {},
   "outputs": [],
   "source": [
    "o_layer.weights = np.array([\n",
    "    [0.4, 0.45, 0.6],\n",
    "    [0.5, 0.55, 0.6]\n",
    "])"
   ]
  },
  {
   "cell_type": "code",
   "execution_count": 12,
   "id": "716a35fa",
   "metadata": {},
   "outputs": [],
   "source": [
    "o_inputs = np.append(h_ys, 1).reshape((1, 3))"
   ]
  },
  {
   "cell_type": "code",
   "execution_count": 13,
   "id": "3609a639",
   "metadata": {},
   "outputs": [
    {
     "data": {
      "text/plain": [
       "array([[0.59326999, 0.59688438, 1.        ]])"
      ]
     },
     "execution_count": 13,
     "metadata": {},
     "output_type": "execute_result"
    }
   ],
   "source": [
    "o_inputs"
   ]
  },
  {
   "cell_type": "code",
   "execution_count": 14,
   "id": "4e9b89d7",
   "metadata": {},
   "outputs": [],
   "source": [
    "o_ys = o_layer.first_forward(o_inputs)"
   ]
  },
  {
   "cell_type": "code",
   "execution_count": 15,
   "id": "a56443a5",
   "metadata": {},
   "outputs": [
    {
     "data": {
      "text/plain": [
       "array([[0.75136507, 0.77292847]])"
      ]
     },
     "execution_count": 15,
     "metadata": {},
     "output_type": "execute_result"
    }
   ],
   "source": [
    "o_ys"
   ]
  },
  {
   "cell_type": "code",
   "execution_count": 16,
   "id": "e9535ee7",
   "metadata": {},
   "outputs": [],
   "source": [
    "ts = np.array([[0.01, 0.99]])"
   ]
  },
  {
   "cell_type": "code",
   "execution_count": 17,
   "id": "1a392ea2",
   "metadata": {},
   "outputs": [],
   "source": [
    "e = -1 * (ts - o_ys)"
   ]
  },
  {
   "cell_type": "code",
   "execution_count": 18,
   "id": "d59363f6",
   "metadata": {},
   "outputs": [
    {
     "data": {
      "text/plain": [
       "array([[ 0.74136507, -0.21707153]])"
      ]
     },
     "execution_count": 18,
     "metadata": {},
     "output_type": "execute_result"
    }
   ],
   "source": [
    "e"
   ]
  },
  {
   "cell_type": "code",
   "execution_count": 19,
   "id": "c432fff4",
   "metadata": {},
   "outputs": [],
   "source": [
    "o_sigmas, o_weights = o_layer.backward(e)"
   ]
  },
  {
   "cell_type": "code",
   "execution_count": 20,
   "id": "3da19d45",
   "metadata": {},
   "outputs": [
    {
     "data": {
      "text/plain": [
       "array([[ 0.13849856, -0.03809824]])"
      ]
     },
     "execution_count": 20,
     "metadata": {},
     "output_type": "execute_result"
    }
   ],
   "source": [
    "o_sigmas"
   ]
  },
  {
   "cell_type": "code",
   "execution_count": 21,
   "id": "6a28ee57",
   "metadata": {},
   "outputs": [],
   "source": [
    "sums = o_sigmas @ o_weights"
   ]
  },
  {
   "cell_type": "code",
   "execution_count": 22,
   "id": "fd8703a5",
   "metadata": {},
   "outputs": [
    {
     "data": {
      "text/plain": [
       "array([[0.03635031, 0.04137032, 0.0602402 ]])"
      ]
     },
     "execution_count": 22,
     "metadata": {},
     "output_type": "execute_result"
    }
   ],
   "source": [
    "sums"
   ]
  },
  {
   "cell_type": "code",
   "execution_count": 23,
   "id": "ac1b7372",
   "metadata": {},
   "outputs": [],
   "source": [
    "h_sigmas, _ = h_layer.backward(o_sigmas, o_weights)"
   ]
  },
  {
   "cell_type": "code",
   "execution_count": 24,
   "id": "3593280d",
   "metadata": {},
   "outputs": [
    {
     "data": {
      "text/plain": [
       "array([[0.05, 0.1 , 1.  ]])"
      ]
     },
     "execution_count": 24,
     "metadata": {},
     "output_type": "execute_result"
    }
   ],
   "source": [
    "h_layer.forward_inputs"
   ]
  },
  {
   "cell_type": "code",
   "execution_count": 25,
   "id": "9ddd83db",
   "metadata": {},
   "outputs": [],
   "source": [
    "h_layer.second_forward()"
   ]
  },
  {
   "cell_type": "code",
   "execution_count": 26,
   "id": "3f6be385",
   "metadata": {},
   "outputs": [
    {
     "data": {
      "text/plain": [
       "array([[0.14978072, 0.19956143, 0.34561432],\n",
       "       [0.24975114, 0.29950229, 0.34502287]])"
      ]
     },
     "execution_count": 26,
     "metadata": {},
     "output_type": "execute_result"
    }
   ],
   "source": [
    "h_layer.weights"
   ]
  },
  {
   "cell_type": "code",
   "execution_count": 27,
   "id": "3ce83693",
   "metadata": {},
   "outputs": [],
   "source": [
    "o_layer.second_forward()"
   ]
  },
  {
   "cell_type": "code",
   "execution_count": 28,
   "id": "81f7768d",
   "metadata": {},
   "outputs": [
    {
     "data": {
      "text/plain": [
       "array([[0.35891648, 0.40866619, 0.53075072],\n",
       "       [0.51130127, 0.56137012, 0.61904912]])"
      ]
     },
     "execution_count": 28,
     "metadata": {},
     "output_type": "execute_result"
    }
   ],
   "source": [
    "o_layer.weights"
   ]
  },
  {
   "cell_type": "code",
   "execution_count": null,
   "id": "e8638519",
   "metadata": {},
   "outputs": [],
   "source": []
  }
 ],
 "metadata": {
  "kernelspec": {
   "display_name": "Python 3",
   "language": "python",
   "name": "python3"
  },
  "language_info": {
   "codemirror_mode": {
    "name": "ipython",
    "version": 3
   },
   "file_extension": ".py",
   "mimetype": "text/x-python",
   "name": "python",
   "nbconvert_exporter": "python",
   "pygments_lexer": "ipython3",
   "version": "3.6.13"
  }
 },
 "nbformat": 4,
 "nbformat_minor": 5
}
